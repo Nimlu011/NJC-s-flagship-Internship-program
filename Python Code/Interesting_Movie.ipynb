{
 "cells": [
  {
   "cell_type": "markdown",
   "id": "acbcb2cf-718c-4915-a06e-e2998a7f96c3",
   "metadata": {},
   "source": [
    "### Connect to the SQLite database"
   ]
  },
  {
   "cell_type": "code",
   "execution_count": 1,
   "id": "0432e1c6-4830-443b-b93f-4cbf256594be",
   "metadata": {},
   "outputs": [],
   "source": [
    "import sqlite3"
   ]
  },
  {
   "cell_type": "markdown",
   "id": "754841b4-d465-489c-a2d7-10fd83f85e5e",
   "metadata": {},
   "source": [
    "### Creating a new SQLite Database"
   ]
  },
  {
   "cell_type": "code",
   "execution_count": 2,
   "id": "9b468665-32c3-4935-95b6-20d2d51cb652",
   "metadata": {},
   "outputs": [
    {
     "data": {
      "text/plain": [
       "<sqlite3.Connection at 0x13619ec2300>"
      ]
     },
     "execution_count": 2,
     "metadata": {},
     "output_type": "execute_result"
    }
   ],
   "source": [
    "sqlite3.connect('CINEMA_fav.db') #YOU CAN CHANGE this name ('CINEMA_fav.db')  WHICH IS A DATABASE NAME "
   ]
  },
  {
   "cell_type": "markdown",
   "id": "dde2278e-acff-4ac2-be60-f9b102073bb0",
   "metadata": {},
   "source": [
    "### Creating a new table (Movies)"
   ]
  },
  {
   "cell_type": "code",
   "execution_count": 3,
   "id": "5d6a326b-4ca5-4e36-872a-db3cf59f0c33",
   "metadata": {},
   "outputs": [],
   "source": [
    "conn = sqlite3.connect('CINEMA_fav.db')"
   ]
  },
  {
   "cell_type": "code",
   "execution_count": 4,
   "id": "bf9e3a8c-3372-4f62-a895-7969e87bc048",
   "metadata": {},
   "outputs": [],
   "source": [
    "c = conn.cursor()\n",
    "c.execute('''CREATE TABLE Movies\n",
    "             ([Movie_id] INT PRIMARY KEY, [Movie_Name] text, [Lead_Actor] text, [Lead_Actress] text, [Director] text, [Year_of_Release] date)''')\n",
    "                 \n",
    "conn.commit()\n"
   ]
  },
  {
   "cell_type": "markdown",
   "id": "39c7b81c-c889-4146-b572-c465370b3e80",
   "metadata": {},
   "source": [
    "### View Created Table Description in SQLite database which is created recently"
   ]
  },
  {
   "cell_type": "code",
   "execution_count": 6,
   "id": "937c501a-0598-4d0d-93a4-54beae956be6",
   "metadata": {},
   "outputs": [
    {
     "data": {
      "text/plain": [
       "(('Movie_id', None, None, None, None, None, None),\n",
       " ('Movie_Name', None, None, None, None, None, None),\n",
       " ('Lead_Actor', None, None, None, None, None, None),\n",
       " ('Lead_Actress', None, None, None, None, None, None),\n",
       " ('Director', None, None, None, None, None, None),\n",
       " ('Year_of_Release', None, None, None, None, None, None))"
      ]
     },
     "execution_count": 6,
     "metadata": {},
     "output_type": "execute_result"
    }
   ],
   "source": [
    "c.execute('SELECT * FROM Movies').description"
   ]
  },
  {
   "cell_type": "markdown",
   "id": "d4ad1485-9d26-43b5-8b85-0bcf252e751a",
   "metadata": {},
   "source": [
    "### Inserting data into Movies table"
   ]
  },
  {
   "cell_type": "code",
   "execution_count": 7,
   "id": "72921528-8d46-4205-9820-2a2dda8acaee",
   "metadata": {},
   "outputs": [],
   "source": [
    "c = conn.cursor()\n",
    "\n",
    "c.execute (\"INSERT INTO Movies VALUES (1, 'K.G.F: Chapter 1','Yash','Srinidhi Shetty', 'Prashanth Neel', '21 December 2018' )\");\n",
    "                 \n",
    "conn.commit()"
   ]
  },
  {
   "cell_type": "markdown",
   "id": "a68ef81c-ceeb-4652-831d-61774fb58b48",
   "metadata": {},
   "source": [
    "##### Verify the table value successfully inserted or not"
   ]
  },
  {
   "cell_type": "code",
   "execution_count": 8,
   "id": "dd6cf960-1fe9-4842-920d-c1e502eead66",
   "metadata": {},
   "outputs": [
    {
     "name": "stdout",
     "output_type": "stream",
     "text": [
      "(1, 'K.G.F: Chapter 1', 'Yash', 'Srinidhi Shetty', 'Prashanth Neel', '21 December 2018')\n"
     ]
    }
   ],
   "source": [
    "for row in c.execute('SELECT * FROM Movies'):\n",
    "    print(row)"
   ]
  },
  {
   "cell_type": "markdown",
   "id": "d52632e0-c578-40f6-9157-9c231b0adcea",
   "metadata": {},
   "source": [
    "##### Inserting another data into Movies table"
   ]
  },
  {
   "cell_type": "code",
   "execution_count": 10,
   "id": "08e803b0-0fb0-433a-8858-d6f4a6168e08",
   "metadata": {},
   "outputs": [],
   "source": [
    "c = conn.cursor()\n",
    "\n",
    "c.execute (\"INSERT INTO Movies VALUES (2, 'Tum Bin','Priyanshu Chatterjee','Sandali Sinha', 'Anubhav Sinha', '13 July 2001' )\");\n",
    "c.execute (\"INSERT INTO Movies VALUES (3, 'Baahubali: The Beginning','Prabhas','Anushka Shetty', 'S. S. Rajamouli', '10 July 2015' )\");\n",
    "c.execute (\"INSERT INTO Movies VALUES (4, 'Baahubali 2: The Conclusion','Prabhas','Anushka Shetty', 'S. S. Rajamouli', '28 April 2017' )\");\n",
    "c.execute (\"INSERT INTO Movies VALUES (5, 'Junglee','Vidyut Jammwal','Pooja Sawant', 'Chuck Russell', '29 March 2019' )\");\n",
    "c.execute (\"INSERT INTO Movies VALUES (6, 'Dangal','Aamir Khan','Fatima Sana Shaikh', 'Nitesh Tiwari', '23 December 2016' )\");\n",
    "c.execute (\"INSERT INTO Movies VALUES (7, '3 Idiots','Aamir Khan','Kareena Kapoo', 'Rajkumar Hirani', '25 December 2009' )\");\n",
    "c.execute (\"INSERT INTO Movies VALUES (8, 'Thugs of Hindostan',' Aamir Khan','Fatima Sana Shaikh', 'Vijay Krishna Acharya', '8 November 2018' )\");\n",
    "c.execute (\"INSERT INTO Movies VALUES (9, 'Lagaan','Aamir Khan','Gracy Singh', 'Ashutosh Gowariker', '15 June 2001' )\");\n",
    "c.execute (\"INSERT INTO Movies VALUES (10, 'Mangal Pandey: The Rising','Aamir Khan','Rani Mukerji', 'Ketan Mehta', '12 August 2005' )\");\n",
    "c.execute (\"INSERT INTO Movies VALUES (11, 'Drishyam','Ajay Devgan','Tabu', 'Nishikant Kamat', '31 July 2015' )\");\n",
    "c.execute (\"INSERT INTO Movies VALUES (12, 'Shivaay','Ajay Devgan','Erika Kaar', 'Ajay Devgn', '28 October 2016' )\");\n",
    "c.execute (\"INSERT INTO Movies VALUES (13, 'Raid','Ajay Devgan','Ileana D Cruz', 'Raj Kumar Gupta', '16 March 2018' )\");\n",
    "c.execute (\"INSERT INTO Movies VALUES (14, 'Tanhaji','Ajay Devgan','Kajol', 'Om Raut', '10 January 2020' )\");\n",
    "c.execute (\"INSERT INTO Movies VALUES (15, 'Kesari','Akshay Kumar','Parineeti Chopra', 'Anurag Singh', '21 March 2019' )\"); \n",
    "\n",
    "conn.commit()"
   ]
  },
  {
   "cell_type": "markdown",
   "id": "94822996-1e82-435d-8824-64e142fc13cc",
   "metadata": {},
   "source": [
    "### Querying data from Movies table"
   ]
  },
  {
   "cell_type": "markdown",
   "id": "14b1ecb8-e59d-4424-b73b-618180b70851",
   "metadata": {},
   "source": [
    "##### Verifing the values of Movies table"
   ]
  },
  {
   "cell_type": "code",
   "execution_count": 11,
   "id": "0e65acf8-cb1c-48ec-b4db-7c7821492577",
   "metadata": {},
   "outputs": [
    {
     "name": "stdout",
     "output_type": "stream",
     "text": [
      "(1, 'K.G.F: Chapter 1', 'Yash', 'Srinidhi Shetty', 'Prashanth Neel', '21 December 2018')\n",
      "(2, 'Tum Bin', 'Priyanshu Chatterjee', 'Sandali Sinha', 'Anubhav Sinha', '13 July 2001')\n",
      "(3, 'Baahubali: The Beginning', 'Prabhas', 'Anushka Shetty', 'S. S. Rajamouli', '10 July 2015')\n",
      "(4, 'Baahubali 2: The Conclusion', 'Prabhas', 'Anushka Shetty', 'S. S. Rajamouli', '28 April 2017')\n",
      "(5, 'Junglee', 'Vidyut Jammwal', 'Pooja Sawant', 'Chuck Russell', '29 March 2019')\n",
      "(6, 'Dangal', 'Aamir Khan', 'Fatima Sana Shaikh', 'Nitesh Tiwari', '23 December 2016')\n",
      "(7, '3 Idiots', 'Aamir Khan', 'Kareena Kapoo', 'Rajkumar Hirani', '25 December 2009')\n",
      "(8, 'Thugs of Hindostan', ' Aamir Khan', 'Fatima Sana Shaikh', 'Vijay Krishna Acharya', '8 November 2018')\n",
      "(9, 'Lagaan', 'Aamir Khan', 'Gracy Singh', 'Ashutosh Gowariker', '15 June 2001')\n",
      "(10, 'Mangal Pandey: The Rising', 'Aamir Khan', 'Rani Mukerji', 'Ketan Mehta', '12 August 2005')\n",
      "(11, 'Drishyam', 'Ajay Devgan', 'Tabu', 'Nishikant Kamat', '31 July 2015')\n",
      "(12, 'Shivaay', 'Ajay Devgan', 'Erika Kaar', 'Ajay Devgn', '28 October 2016')\n",
      "(13, 'Raid', 'Ajay Devgan', 'Ileana D Cruz', 'Raj Kumar Gupta', '16 March 2018')\n",
      "(14, 'Tanhaji', 'Ajay Devgan', 'Kajol', 'Om Raut', '10 January 2020')\n",
      "(15, 'Kesari', 'Akshay Kumar', 'Parineeti Chopra', 'Anurag Singh', '21 March 2019')\n"
     ]
    }
   ],
   "source": [
    "for row in c.execute('SELECT * FROM Movies'):\n",
    "    print(row)"
   ]
  },
  {
   "cell_type": "code",
   "execution_count": 12,
   "id": "a64f7268-708b-425a-ae7d-821c14834cf6",
   "metadata": {},
   "outputs": [
    {
     "name": "stdout",
     "output_type": "stream",
     "text": [
      "(12, 'Shivaay', 'Ajay Devgan', 'Erika Kaar', 'Ajay Devgn', '28 October 2016')\n",
      "(2, 'Tum Bin', 'Priyanshu Chatterjee', 'Sandali Sinha', 'Anubhav Sinha', '13 July 2001')\n",
      "(15, 'Kesari', 'Akshay Kumar', 'Parineeti Chopra', 'Anurag Singh', '21 March 2019')\n",
      "(9, 'Lagaan', 'Aamir Khan', 'Gracy Singh', 'Ashutosh Gowariker', '15 June 2001')\n",
      "(5, 'Junglee', 'Vidyut Jammwal', 'Pooja Sawant', 'Chuck Russell', '29 March 2019')\n",
      "(10, 'Mangal Pandey: The Rising', 'Aamir Khan', 'Rani Mukerji', 'Ketan Mehta', '12 August 2005')\n",
      "(11, 'Drishyam', 'Ajay Devgan', 'Tabu', 'Nishikant Kamat', '31 July 2015')\n",
      "(6, 'Dangal', 'Aamir Khan', 'Fatima Sana Shaikh', 'Nitesh Tiwari', '23 December 2016')\n",
      "(14, 'Tanhaji', 'Ajay Devgan', 'Kajol', 'Om Raut', '10 January 2020')\n",
      "(1, 'K.G.F: Chapter 1', 'Yash', 'Srinidhi Shetty', 'Prashanth Neel', '21 December 2018')\n",
      "(13, 'Raid', 'Ajay Devgan', 'Ileana D Cruz', 'Raj Kumar Gupta', '16 March 2018')\n",
      "(7, '3 Idiots', 'Aamir Khan', 'Kareena Kapoo', 'Rajkumar Hirani', '25 December 2009')\n",
      "(3, 'Baahubali: The Beginning', 'Prabhas', 'Anushka Shetty', 'S. S. Rajamouli', '10 July 2015')\n",
      "(4, 'Baahubali 2: The Conclusion', 'Prabhas', 'Anushka Shetty', 'S. S. Rajamouli', '28 April 2017')\n",
      "(8, 'Thugs of Hindostan', ' Aamir Khan', 'Fatima Sana Shaikh', 'Vijay Krishna Acharya', '8 November 2018')\n"
     ]
    }
   ],
   "source": [
    "for row in c.execute('SELECT * FROM Movies ORDER BY Director'):\n",
    "    print(row)"
   ]
  },
  {
   "cell_type": "code",
   "execution_count": 13,
   "id": "d004f93f-cb7e-4562-acc6-a1fdc60584a8",
   "metadata": {},
   "outputs": [
    {
     "name": "stdout",
     "output_type": "stream",
     "text": [
      "(7, '3 Idiots', 'Aamir Khan', 'Kareena Kapoo', 'Rajkumar Hirani', '25 December 2009')\n",
      "(4, 'Baahubali 2: The Conclusion', 'Prabhas', 'Anushka Shetty', 'S. S. Rajamouli', '28 April 2017')\n",
      "(3, 'Baahubali: The Beginning', 'Prabhas', 'Anushka Shetty', 'S. S. Rajamouli', '10 July 2015')\n",
      "(6, 'Dangal', 'Aamir Khan', 'Fatima Sana Shaikh', 'Nitesh Tiwari', '23 December 2016')\n",
      "(11, 'Drishyam', 'Ajay Devgan', 'Tabu', 'Nishikant Kamat', '31 July 2015')\n",
      "(5, 'Junglee', 'Vidyut Jammwal', 'Pooja Sawant', 'Chuck Russell', '29 March 2019')\n",
      "(1, 'K.G.F: Chapter 1', 'Yash', 'Srinidhi Shetty', 'Prashanth Neel', '21 December 2018')\n",
      "(15, 'Kesari', 'Akshay Kumar', 'Parineeti Chopra', 'Anurag Singh', '21 March 2019')\n",
      "(9, 'Lagaan', 'Aamir Khan', 'Gracy Singh', 'Ashutosh Gowariker', '15 June 2001')\n",
      "(10, 'Mangal Pandey: The Rising', 'Aamir Khan', 'Rani Mukerji', 'Ketan Mehta', '12 August 2005')\n",
      "(13, 'Raid', 'Ajay Devgan', 'Ileana D Cruz', 'Raj Kumar Gupta', '16 March 2018')\n",
      "(12, 'Shivaay', 'Ajay Devgan', 'Erika Kaar', 'Ajay Devgn', '28 October 2016')\n",
      "(14, 'Tanhaji', 'Ajay Devgan', 'Kajol', 'Om Raut', '10 January 2020')\n",
      "(8, 'Thugs of Hindostan', ' Aamir Khan', 'Fatima Sana Shaikh', 'Vijay Krishna Acharya', '8 November 2018')\n",
      "(2, 'Tum Bin', 'Priyanshu Chatterjee', 'Sandali Sinha', 'Anubhav Sinha', '13 July 2001')\n"
     ]
    }
   ],
   "source": [
    "for row in c.execute('SELECT * FROM Movies ORDER BY Movie_Name'):\n",
    "    print(row)"
   ]
  },
  {
   "cell_type": "code",
   "execution_count": 14,
   "id": "0b00db67-e431-487d-8418-26bdd6782d79",
   "metadata": {},
   "outputs": [
    {
     "name": "stdout",
     "output_type": "stream",
     "text": [
      "(6, 'Dangal', 'Aamir Khan', 'Fatima Sana Shaikh', 'Nitesh Tiwari', '23 December 2016')\n",
      "(7, '3 Idiots', 'Aamir Khan', 'Kareena Kapoo', 'Rajkumar Hirani', '25 December 2009')\n",
      "(9, 'Lagaan', 'Aamir Khan', 'Gracy Singh', 'Ashutosh Gowariker', '15 June 2001')\n",
      "(10, 'Mangal Pandey: The Rising', 'Aamir Khan', 'Rani Mukerji', 'Ketan Mehta', '12 August 2005')\n"
     ]
    }
   ],
   "source": [
    "for row in c.execute('SELECT * FROM Movies WHERE Lead_Actor = \"Aamir Khan\" '):\n",
    "    print(row)"
   ]
  },
  {
   "cell_type": "code",
   "execution_count": 15,
   "id": "74a3f56c-7164-4082-93a3-fb25498c5ead",
   "metadata": {},
   "outputs": [
    {
     "name": "stdout",
     "output_type": "stream",
     "text": [
      "(3, 'Baahubali: The Beginning', 'Prabhas', 'Anushka Shetty', 'S. S. Rajamouli', '10 July 2015')\n",
      "(4, 'Baahubali 2: The Conclusion', 'Prabhas', 'Anushka Shetty', 'S. S. Rajamouli', '28 April 2017')\n"
     ]
    }
   ],
   "source": [
    "for row in c.execute('SELECT * FROM Movies WHERE Lead_Actress = \"Anushka Shetty\" '):\n",
    "    print(row)"
   ]
  },
  {
   "cell_type": "code",
   "execution_count": 16,
   "id": "dae9e01f-96a0-4055-8938-e6352469022c",
   "metadata": {},
   "outputs": [
    {
     "name": "stdout",
     "output_type": "stream",
     "text": [
      "('Dangal', 'Aamir Khan', '23 December 2016')\n",
      "('3 Idiots', 'Aamir Khan', '25 December 2009')\n",
      "('Lagaan', 'Aamir Khan', '15 June 2001')\n",
      "('Mangal Pandey: The Rising', 'Aamir Khan', '12 August 2005')\n"
     ]
    }
   ],
   "source": [
    "for row in c.execute('SELECT Movie_Name,Lead_Actor,Year_of_Release FROM Movies WHERE Lead_Actor = \"Aamir Khan\" '):\n",
    "    print(row)"
   ]
  },
  {
   "cell_type": "code",
   "execution_count": null,
   "id": "734635b8-2912-4dfe-b7f0-ae24dafb18c9",
   "metadata": {},
   "outputs": [],
   "source": []
  }
 ],
 "metadata": {
  "kernelspec": {
   "display_name": "Python 3",
   "language": "python",
   "name": "python3"
  },
  "language_info": {
   "codemirror_mode": {
    "name": "ipython",
    "version": 3
   },
   "file_extension": ".py",
   "mimetype": "text/x-python",
   "name": "python",
   "nbconvert_exporter": "python",
   "pygments_lexer": "ipython3",
   "version": "3.8.8"
  }
 },
 "nbformat": 4,
 "nbformat_minor": 5
}
